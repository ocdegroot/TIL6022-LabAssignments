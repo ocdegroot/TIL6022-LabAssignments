{
 "cells": [
  {
   "cell_type": "markdown",
   "id": "ba7a5dd8",
   "metadata": {},
   "source": [
    "Import relevant packages here."
   ]
  },
  {
   "cell_type": "code",
   "execution_count": 1,
   "id": "6a8838bb",
   "metadata": {},
   "outputs": [],
   "source": [
    "import matplotlib.pyplot as plt\n",
    "import numpy\n",
    "import pandas as pd\n",
    "import math\n"
   ]
  },
  {
   "cell_type": "markdown",
   "id": "1725519c",
   "metadata": {},
   "source": [
    "Load the data and verify it is loaded correctly.\n",
    "<ul>\n",
    "    <li>Print it (head, tail, or specific rows, choose a sensible number of rows).</li>\n",
    "    <li>Compare it to the source file.</li>\n",
    "<ul>"
   ]
  },
  {
   "cell_type": "code",
   "execution_count": 2,
   "id": "aa4d5e37",
   "metadata": {},
   "outputs": [
    {
     "name": "stdout",
     "output_type": "stream",
     "text": [
      "c:\\Users\\xyria\\Downloads\n"
     ]
    },
    {
     "data": {
      "text/html": [
       "<div>\n",
       "<style scoped>\n",
       "    .dataframe tbody tr th:only-of-type {\n",
       "        vertical-align: middle;\n",
       "    }\n",
       "\n",
       "    .dataframe tbody tr th {\n",
       "        vertical-align: top;\n",
       "    }\n",
       "\n",
       "    .dataframe thead th {\n",
       "        text-align: right;\n",
       "    }\n",
       "</style>\n",
       "<table border=\"1\" class=\"dataframe\">\n",
       "  <thead>\n",
       "    <tr style=\"text-align: right;\">\n",
       "      <th></th>\n",
       "      <th>dv</th>\n",
       "      <th>s</th>\n",
       "      <th>a</th>\n",
       "    </tr>\n",
       "  </thead>\n",
       "  <tbody>\n",
       "    <tr>\n",
       "      <th>0</th>\n",
       "      <td>-0.743240</td>\n",
       "      <td>53.5427</td>\n",
       "      <td>1.242570</td>\n",
       "    </tr>\n",
       "    <tr>\n",
       "      <th>1</th>\n",
       "      <td>-0.557230</td>\n",
       "      <td>53.6120</td>\n",
       "      <td>1.777920</td>\n",
       "    </tr>\n",
       "    <tr>\n",
       "      <th>2</th>\n",
       "      <td>-0.454769</td>\n",
       "      <td>53.6541</td>\n",
       "      <td>0.544107</td>\n",
       "    </tr>\n",
       "    <tr>\n",
       "      <th>3</th>\n",
       "      <td>-0.525396</td>\n",
       "      <td>53.7030</td>\n",
       "      <td>-0.294755</td>\n",
       "    </tr>\n",
       "    <tr>\n",
       "      <th>4</th>\n",
       "      <td>-0.601285</td>\n",
       "      <td>53.7592</td>\n",
       "      <td>-0.290961</td>\n",
       "    </tr>\n",
       "  </tbody>\n",
       "</table>\n",
       "</div>"
      ],
      "text/plain": [
       "         dv        s         a\n",
       "0 -0.743240  53.5427  1.242570\n",
       "1 -0.557230  53.6120  1.777920\n",
       "2 -0.454769  53.6541  0.544107\n",
       "3 -0.525396  53.7030 -0.294755\n",
       "4 -0.601285  53.7592 -0.290961"
      ]
     },
     "execution_count": 2,
     "metadata": {},
     "output_type": "execute_result"
    }
   ],
   "source": [
    "import os\n",
    "print(os.getcwd())\n",
    "\n",
    "file_path = 'cf_data.csv'\n",
    "df = pd.read_csv(file_path)\n",
    "df.head()\n",
    "\n"
   ]
  },
  {
   "cell_type": "markdown",
   "id": "0f6d5753",
   "metadata": {},
   "source": [
    "In the ensuing, you will use <code>numpy</code>.\n",
    "\n",
    "Let's create a grid for the values to plot. But first create <b>two arrays named <code>dv</code> and <code>s</code></b> using <code>numpy.linspace</code> that hold the grid values at the relevant indices in their respective dimension of the grid.\n",
    "\n",
    "Create a <b>grid named <code>a</code></b> with zeros using <code>numpy.zeros</code> in to which calculated acceleration values can be stored.<br>\n",
    "<br>\n",
    "Let the grid span:<br>\n",
    "<ul>\n",
    "    <li>Speed difference <code>dv</code> [m/s]\n",
    "        <ul>\n",
    "            <li>From -10 till 10</li>\n",
    "            <li>With 41 evenly spaced values</li>\n",
    "        </ul>\n",
    "    </li>\n",
    "    <li>Headway <code>s</code> [m]\n",
    "        <ul>\n",
    "            <li>From 0 till 200</li>\n",
    "            <li>With 21 evenly spaced values</li>\n",
    "        </ul>\n",
    "    </li>\n",
    "</ul>"
   ]
  },
  {
   "cell_type": "code",
   "execution_count": 3,
   "id": "2d52276f",
   "metadata": {},
   "outputs": [],
   "source": [
    "dv = numpy.linspace(-10, 10, num=41, endpoint=True, retstep=False, dtype=None, axis=0,)\n",
    "s = numpy.linspace(0, 200, num=21, endpoint=True, retstep=False, dtype=None, axis=0,)\n",
    "a = numpy.zeros([41, 21])"
   ]
  },
  {
   "cell_type": "markdown",
   "id": "fedab6cf",
   "metadata": {},
   "source": [
    "Create from the imported data 3 separate <code>numpy</code> arrays for each column <code>dv</code>, <code>s</code> and <code>a</code>. (We do this for speed reasons later.)\n",
    "<ul>\n",
    "    <li>Make sure to name them differently from the arrays that belong to the grid as above.</li>\n",
    "    <li>You can access the data of each column in a <code>DataFrame</code> using <code>data.xxx</code> where <code>xxx</code> is the column name (not as a string).</li>\n",
    "    <li>Use the method <code>to_numpy()</code> to convert a column to a <code>numpy</code> array.</li>\n",
    "</ul>"
   ]
  },
  {
   "cell_type": "code",
   "execution_count": 9,
   "id": "1058fc26",
   "metadata": {},
   "outputs": [],
   "source": [
    "DV = df.dv.to_numpy()\n",
    "S = df.s.to_numpy()\n",
    "A = df.a.to_numpy()"
   ]
  },
  {
   "cell_type": "markdown",
   "id": "bbf1585a",
   "metadata": {},
   "source": [
    "Create an algorithm that calculates all the acceleration values and stores them in the grid. The algorithm is described visually in the last part of the lecture. At each grid point, it calculates a weighted mean of all measurements. The weights are given by an exponential function, based on the 'distance' between the grid point, and the measurement values of <code>dv</code> and <code>s</code>. To get you started, how many <code>for</code>-loops do you need?<br>\n",
    "<br>\n",
    "For this you will need <code>math</code>.<br>\n",
    "Use an <i>upsilon</i> of 1.5m/s and a <i>sigma</i> of 30m.<br>\n",
    "<br>\n",
    "<b>Warning:</b> This calculation may take some time. So:\n",
    "<ul>\n",
    "    <li>Print a line for each iteration of the outer-most <code>for</code>-loop that shows you the progress.</li>\n",
    "    <li>Test you code by running it only on the first 50 measurements of the data.</li>\n",
    "</ul>"
   ]
  },
  {
   "cell_type": "code",
   "execution_count": 22,
   "id": "676dd33f",
   "metadata": {},
   "outputs": [
    {
     "name": "stdout",
     "output_type": "stream",
     "text": [
      "Now calculating gridpoint 1/41.\n",
      "Now calculating gridpoint 2/41.\n",
      "Now calculating gridpoint 3/41.\n",
      "Now calculating gridpoint 4/41.\n",
      "Now calculating gridpoint 5/41.\n",
      "Now calculating gridpoint 6/41.\n",
      "Now calculating gridpoint 7/41.\n",
      "Now calculating gridpoint 8/41.\n",
      "Now calculating gridpoint 9/41.\n",
      "Now calculating gridpoint 10/41.\n",
      "Now calculating gridpoint 11/41.\n",
      "Now calculating gridpoint 12/41.\n",
      "Now calculating gridpoint 13/41.\n",
      "Now calculating gridpoint 14/41.\n",
      "Now calculating gridpoint 15/41.\n",
      "Now calculating gridpoint 16/41.\n",
      "Now calculating gridpoint 17/41.\n",
      "Now calculating gridpoint 18/41.\n",
      "Now calculating gridpoint 19/41.\n",
      "Now calculating gridpoint 20/41.\n",
      "Now calculating gridpoint 21/41.\n",
      "Now calculating gridpoint 22/41.\n",
      "Now calculating gridpoint 23/41.\n",
      "Now calculating gridpoint 24/41.\n",
      "Now calculating gridpoint 25/41.\n",
      "Now calculating gridpoint 26/41.\n",
      "Now calculating gridpoint 27/41.\n",
      "Now calculating gridpoint 28/41.\n",
      "Now calculating gridpoint 29/41.\n",
      "Now calculating gridpoint 30/41.\n",
      "Now calculating gridpoint 31/41.\n",
      "Now calculating gridpoint 32/41.\n",
      "Now calculating gridpoint 33/41.\n",
      "Now calculating gridpoint 34/41.\n",
      "Now calculating gridpoint 35/41.\n",
      "Now calculating gridpoint 36/41.\n",
      "Now calculating gridpoint 37/41.\n",
      "Now calculating gridpoint 38/41.\n",
      "Now calculating gridpoint 39/41.\n",
      "Now calculating gridpoint 40/41.\n",
      "Now calculating gridpoint 41/41.\n"
     ]
    }
   ],
   "source": [
    "epsilon = 1.5\n",
    "sigma = 30\n",
    "\n",
    "for i in range(len(dv)):\n",
    "    print(f\"Now calculating gridpoint {i+1}/41.\")\n",
    "\n",
    "    for j in range(len(s)):\n",
    "        sum_omega = 0\n",
    "        total_omega = 0\n",
    "\n",
    "        for k in range(len(DV)):\n",
    "            omega_dv = math.exp(-abs((dv[i] - DV[k])) / epsilon)\n",
    "            omega_s = math.exp(-abs((s[j] - S[k])) / sigma)\n",
    "            weight = omega_dv * omega_s\n",
    "            sum_omega += weight * A[k]\n",
    "            total_omega += weight\n",
    "        a[i, j] = sum_omega / total_omega"
   ]
  },
  {
   "cell_type": "markdown",
   "id": "52cbac3a",
   "metadata": {},
   "source": [
    "The following code will plot the data for you. Does it make sense when considering:\n",
    "<ul>\n",
    "    <li>Negative (slower than leader) and positive (faster than leader) speed differences?</li>\n",
    "    <li>Small and large headways?</li>\n",
    "</ul>"
   ]
  },
  {
   "cell_type": "code",
   "execution_count": 21,
   "id": "168949b8",
   "metadata": {},
   "outputs": [
    {
     "data": {
      "image/png": "[encoded data removed]",
      "text/plain": [
       "<Figure size 1000x700 with 2 Axes>"
      ]
     },
     "metadata": {},
     "output_type": "display_data"
    }
   ],
   "source": [
    "X, Y = numpy.meshgrid(s, dv)\n",
    "axs = plt.axes()\n",
    "p = axs.pcolor(Y, X, a, shading='nearest')\n",
    "axs.set_title('Acceleration [m/s/s]')\n",
    "axs.set_xlabel('Speed difference [m/s]')\n",
    "axs.set_ylabel('Headway [m]')\n",
    "axs.figure.colorbar(p)\n",
    "axs.figure.set_size_inches(10, 7)"
   ]
  }
 ],
 "metadata": {
  "kernelspec": {
   "display_name": "Python 3 (ipykernel)",
   "language": "python",
   "name": "python3"
  },
  "language_info": {
   "codemirror_mode": {
    "name": "ipython",
    "version": 3
   },
   "file_extension": ".py",
   "mimetype": "text/x-python",
   "name": "python",
   "nbconvert_exporter": "python",
   "pygments_lexer": "ipython3",
   "version": "3.12.3"
  }
 },
 "nbformat": 4,
 "nbformat_minor": 5
}
